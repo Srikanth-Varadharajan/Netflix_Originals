import pandas as pd
import numpy as np
import matplotlib.pyplot as plt

def load_data(file_path):
    """Load Netflix original films data from a CSV file."""
    return pd.read_csv(file_path)

def explore_data(dataframe):
    """Display the first few rows and summary statistics of the DataFrame."""
    print(dataframe.head())
    print(dataframe.describe())

def calculate_quantiles(dataframe):
    """Calculate the 1st percentile and maximum IMDb score."""
    return dataframe.IMDB.quantile([0.01, 1.0])

def filter_data_by_imdb(dataframe, min_imdb, max_imdb):
    """Filter movies based on IMDb scores."""
    below_min_imdb = dataframe[dataframe.IMDB < min_imdb]
    between_min_max_imdb = dataframe[(dataframe.IMDB > min_imdb) & (dataframe.IMDB < max_imdb)]
    return below_min_imdb, between_min_max_imdb

def analyze_and_visualize(dataframe):
    """Analyze and visualize IMDb scores of Netflix movies."""
    print(dataframe)
    print(dataframe.isnull().sum())
    print(dataframe.shape)

    plt.hist(dataframe.Genre, dataframe.IMDB, histtype='bar')
    plt.title('Netflix Movie Genres as of 2021')
    plt.xlabel('Genre of the Films')
    plt.ylabel('Ratings')
    plt.legend(['IMDB Ratings'])
    plt.show()

def main():
    file_path = "/kaggle/input/netflix-original-films-imdb-scores/NetflixOriginals.csv"
    
    # Step 1: Load data
    Netflix = load_data(file_path)

    # Step 2: Explore data
    explore_data(Netflix)

    # Step 3: Calculate quantiles
    min_IMDB, max_IMDB = calculate_quantiles(Netflix)
    print('Least and highest IMDb scores are\n', min_IMDB, max_IMDB)

    # Step 4: Filter data
    Netflix1, Netflix2 = filter_data_by_imdb(Netflix, min_IMDB, max_IMDB)

    # Step 5: Analyze and visualize
    analyze_and_visualize(Netflix2)

if __name__ == "__main__":
    main()
